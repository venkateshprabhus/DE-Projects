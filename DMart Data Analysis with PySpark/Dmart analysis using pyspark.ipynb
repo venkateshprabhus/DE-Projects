{
 "cells": [
  {
   "cell_type": "markdown",
   "metadata": {
    "application/vnd.databricks.v1+cell": {
     "cellMetadata": {},
     "inputWidgets": {},
     "nuid": "f9ab159f-4e04-461e-8081-03a9bdf2d666",
     "showTitle": false,
     "tableResultSettingsMap": {},
     "title": ""
    }
   },
   "source": [
    "### Importing packages"
   ]
  },
  {
   "cell_type": "code",
   "execution_count": 0,
   "metadata": {
    "application/vnd.databricks.v1+cell": {
     "cellMetadata": {
      "byteLimit": 2048000,
      "rowLimit": 10000
     },
     "inputWidgets": {},
     "nuid": "6e3309ad-39db-4a33-859f-026177e7f2d1",
     "showTitle": false,
     "tableResultSettingsMap": {},
     "title": ""
    }
   },
   "outputs": [],
   "source": [
    "from pyspark.sql import SparkSession\n",
    "from pyspark.sql import functions as F\n",
    "from pyspark.sql.window import Window\n",
    "from functools import reduce\n"
   ]
  },
  {
   "cell_type": "markdown",
   "metadata": {
    "application/vnd.databricks.v1+cell": {
     "cellMetadata": {},
     "inputWidgets": {},
     "nuid": "2d1285df-75e4-41bf-bc4f-3f55c67e2631",
     "showTitle": false,
     "tableResultSettingsMap": {},
     "title": ""
    }
   },
   "source": [
    "### Creating Spark Session"
   ]
  },
  {
   "cell_type": "code",
   "execution_count": 0,
   "metadata": {
    "application/vnd.databricks.v1+cell": {
     "cellMetadata": {
      "byteLimit": 2048000,
      "rowLimit": 10000
     },
     "inputWidgets": {},
     "nuid": "4fe28269-1ce6-4834-b97d-452161dfa5fb",
     "showTitle": false,
     "tableResultSettingsMap": {},
     "title": ""
    }
   },
   "outputs": [
    {
     "output_type": "stream",
     "name": "stdout",
     "output_type": "stream",
     "text": [
      "Out[2]: 'false'"
     ]
    }
   ],
   "source": [
    "spark = SparkSession.builder.appName('DMart Analytics').getOrCreate()\n",
    "spark.conf.get(\"spark.sql.caseSensitive\")"
   ]
  },
  {
   "cell_type": "markdown",
   "metadata": {
    "application/vnd.databricks.v1+cell": {
     "cellMetadata": {},
     "inputWidgets": {},
     "nuid": "9f156a32-0d9e-4d10-b1ca-b563cf2d85f4",
     "showTitle": false,
     "tableResultSettingsMap": {},
     "title": ""
    }
   },
   "source": [
    "### Loading Data"
   ]
  },
  {
   "cell_type": "code",
   "execution_count": 0,
   "metadata": {
    "application/vnd.databricks.v1+cell": {
     "cellMetadata": {
      "byteLimit": 2048000,
      "rowLimit": 10000
     },
     "inputWidgets": {},
     "nuid": "ae1931c9-5689-4f4c-9688-77b75d8b3fc1",
     "showTitle": false,
     "tableResultSettingsMap": {},
     "title": ""
    }
   },
   "outputs": [],
   "source": [
    "##Product_df = spark.read.format(\"csv\").option(\"header\", \"true\").option(\"inferSchema\", \"True\").load(\"dbfs:/FileStore/shared_uploads/venkateshprabhus27@gmail.com/Product.csv\")\n",
    "#Product_df = spark.read.csv(\"s3://dmart-data/Product.csv\", header=\"true\", inferSchema=\"true\")\n",
    "Product_df = spark.read.format(\"csv\").option(\"header\",\"true\").option(\"inferSchema\",\"true\").load(\"s3://dmart-data/Product.csv\")\n",
    "Customer_df = spark.read.format(\"csv\").option(\"header\",\"true\").option(\"inferSchema\",\"true\").load(\"s3://dmart-data/Customer.csv\")\n",
    "Sales_df = spark.read.format(\"csv\").option(\"header\",\"true\").option(\"inferSchema\",\"true\").load(\"s3://dmart-data/Sales.csv\")"
   ]
  },
  {
   "cell_type": "markdown",
   "metadata": {
    "application/vnd.databricks.v1+cell": {
     "cellMetadata": {},
     "inputWidgets": {},
     "nuid": "b5e6df5a-1911-4086-9bc5-c1b83ebef3cc",
     "showTitle": false,
     "tableResultSettingsMap": {},
     "title": ""
    }
   },
   "source": [
    "### Data Cleaning - Column Renaming"
   ]
  },
  {
   "cell_type": "code",
   "execution_count": 0,
   "metadata": {
    "application/vnd.databricks.v1+cell": {
     "cellMetadata": {
      "byteLimit": 2048000,
      "rowLimit": 10000
     },
     "inputWidgets": {},
     "nuid": "689e02d6-d97e-4555-b7bf-476144b2eed1",
     "showTitle": false,
     "tableResultSettingsMap": {},
     "title": ""
    }
   },
   "outputs": [
    {
     "output_type": "stream",
     "name": "stdout",
     "output_type": "stream",
     "text": [
      "+---------------+---------------+------------+--------------------+\n|     product_id|       category|sub_category|        product_name|\n+---------------+---------------+------------+--------------------+\n|FUR-BO-10001798|      Furniture|   Bookcases|Bush Somerset Col...|\n|FUR-CH-10000454|      Furniture|      Chairs|Hon Deluxe Fabric...|\n|OFF-LA-10000240|Office Supplies|      Labels|Self-Adhesive Add...|\n|FUR-TA-10000577|      Furniture|      Tables|Bretford CR4500 S...|\n|OFF-ST-10000760|Office Supplies|     Storage|Eldon Fold N Roll...|\n|FUR-FU-10001487|      Furniture| Furnishings|Eldon Expressions...|\n|OFF-AR-10002833|Office Supplies|         Art|          Newell 322|\n|TEC-PH-10002275|     Technology|      Phones|Mitel 5320 IP Pho...|\n|OFF-BI-10003910|Office Supplies|     Binders|DXL Angle-View Bi...|\n|OFF-AP-10002892|Office Supplies|  Appliances|Belkin F5C206VTEL...|\n+---------------+---------------+------------+--------------------+\nonly showing top 10 rows\n\nroot\n |-- product_id: string (nullable = true)\n |-- category: string (nullable = true)\n |-- sub_category: string (nullable = true)\n |-- product_name: string (nullable = true)\n\nOut[93]: ['product_id', 'category', 'sub_category', 'product_name']"
     ]
    }
   ],
   "source": [
    "Product_df.show(10)\n",
    "Product_df.printSchema()\n",
    "Product_df.columns"
   ]
  },
  {
   "cell_type": "code",
   "execution_count": 0,
   "metadata": {
    "application/vnd.databricks.v1+cell": {
     "cellMetadata": {
      "byteLimit": 2048000,
      "rowLimit": 10000
     },
     "inputWidgets": {},
     "nuid": "7a143ef2-c220-4de4-bbd4-456f182304a0",
     "showTitle": false,
     "tableResultSettingsMap": {},
     "title": ""
    }
   },
   "outputs": [
    {
     "output_type": "stream",
     "name": "stdout",
     "output_type": "stream",
     "text": [
      "root\n |-- product_id: string (nullable = true)\n |-- category: string (nullable = true)\n |-- sub_category: string (nullable = true)\n |-- product_name: string (nullable = true)\n\nOut[5]: ['product_id', 'category', 'sub_category', 'product_name']"
     ]
    }
   ],
   "source": [
    "Product_df = Product_df.withColumnRenamed('Product ID','product_id').withColumnRenamed('Category', 'category').withColumnRenamed('Sub-Category','sub_category').withColumnRenamed('Product Name','product_name')\n",
    "Product_df.printSchema()\n",
    "Product_df.columns"
   ]
  },
  {
   "cell_type": "code",
   "execution_count": 0,
   "metadata": {
    "application/vnd.databricks.v1+cell": {
     "cellMetadata": {
      "byteLimit": 2048000,
      "rowLimit": 10000
     },
     "inputWidgets": {},
     "nuid": "b50a4579-94fb-427b-a407-f3f5b4706d84",
     "showTitle": false,
     "tableResultSettingsMap": {},
     "title": ""
    }
   },
   "outputs": [
    {
     "output_type": "stream",
     "name": "stdout",
     "output_type": "stream",
     "text": [
      "+-----------+------------------+-----------+---+-------------+---------------+--------------+-----------+-------+\n|customer_id|     customer_name|    segment|age|      country|           city|         state|postal_code| region|\n+-----------+------------------+-----------+---+-------------+---------------+--------------+-----------+-------+\n|   CG-12520|       Claire Gute|   Consumer| 67|United States|      Henderson|      Kentucky|      42420|  South|\n|   DV-13045|   Darrin Van Huff|  Corporate| 31|United States|    Los Angeles|    California|      90036|   West|\n|   SO-20335|    Sean O'Donnell|   Consumer| 65|United States|Fort Lauderdale|       Florida|      33311|  South|\n|   BH-11710|   Brosina Hoffman|   Consumer| 20|United States|    Los Angeles|    California|      90032|   West|\n|   AA-10480|      Andrew Allen|   Consumer| 50|United States|        Concord|North Carolina|      28027|  South|\n|   IM-15070|      Irene Maddox|   Consumer| 66|United States|        Seattle|    Washington|      98103|   West|\n|   HP-14815|     Harold Pawlan|Home Office| 20|United States|     Fort Worth|         Texas|      76106|Central|\n|   PK-19075|         Pete Kriz|   Consumer| 46|United States|        Madison|     Wisconsin|      53711|Central|\n|   AG-10270|   Alejandro Grove|   Consumer| 18|United States|    West Jordan|          Utah|      84084|   West|\n|   ZD-21925|Zuschuss Donatelli|   Consumer| 66|United States|  San Francisco|    California|      94109|   West|\n+-----------+------------------+-----------+---+-------------+---------------+--------------+-----------+-------+\nonly showing top 10 rows\n\nroot\n |-- customer_id: string (nullable = true)\n |-- customer_name: string (nullable = true)\n |-- segment: string (nullable = true)\n |-- age: integer (nullable = true)\n |-- country: string (nullable = true)\n |-- city: string (nullable = true)\n |-- state: string (nullable = true)\n |-- postal_code: integer (nullable = true)\n |-- region: string (nullable = true)\n\nOut[96]: ['customer_id',\n 'customer_name',\n 'segment',\n 'age',\n 'country',\n 'city',\n 'state',\n 'postal_code',\n 'region']"
     ]
    }
   ],
   "source": [
    "Customer_df.show(10)\n",
    "Customer_df.printSchema()\n",
    "Customer_df.columns"
   ]
  },
  {
   "cell_type": "code",
   "execution_count": 0,
   "metadata": {
    "application/vnd.databricks.v1+cell": {
     "cellMetadata": {
      "byteLimit": 2048000,
      "rowLimit": 10000
     },
     "inputWidgets": {},
     "nuid": "7003c1e4-67ef-461a-8ddb-08b5967da86b",
     "showTitle": false,
     "tableResultSettingsMap": {},
     "title": ""
    }
   },
   "outputs": [
    {
     "output_type": "stream",
     "name": "stdout",
     "output_type": "stream",
     "text": [
      "root\n |-- customer_id: string (nullable = true)\n |-- customer_name: string (nullable = true)\n |-- segment: string (nullable = true)\n |-- age: integer (nullable = true)\n |-- country: string (nullable = true)\n |-- city: string (nullable = true)\n |-- state: string (nullable = true)\n |-- postal_code: integer (nullable = true)\n |-- region: string (nullable = true)\n\nOut[7]: ['customer_id',\n 'customer_name',\n 'segment',\n 'age',\n 'country',\n 'city',\n 'state',\n 'postal_code',\n 'region']"
     ]
    }
   ],
   "source": [
    "Customer_df = Customer_df.withColumnRenamed('Customer ID','customer_id') \\\n",
    "    .withColumnRenamed('Customer Name','customer_name') \\\n",
    "        .withColumnRenamed('Segment','segment') \\\n",
    "            .withColumnRenamed('Age','age') \\\n",
    "                .withColumnRenamed('Country','country') \\\n",
    "                    .withColumnRenamed('City','city') \\\n",
    "                        .withColumnRenamed('State','state') \\\n",
    "                            .withColumnRenamed('Postal Code','postal_code') \\\n",
    "                                .withColumnRenamed('Region','region')\n",
    "\n",
    "Customer_df.printSchema()\n",
    "Customer_df.columns"
   ]
  },
  {
   "cell_type": "code",
   "execution_count": 0,
   "metadata": {
    "application/vnd.databricks.v1+cell": {
     "cellMetadata": {
      "byteLimit": 2048000,
      "rowLimit": 10000
     },
     "inputWidgets": {},
     "nuid": "adc50b78-352c-4699-af76-045723067ca5",
     "showTitle": false,
     "tableResultSettingsMap": {},
     "title": ""
    }
   },
   "outputs": [
    {
     "output_type": "stream",
     "name": "stdout",
     "output_type": "stream",
     "text": [
      "+----------+--------------+----------+----------+--------------+-----------+---------------+--------+--------+--------+--------+\n|Order Line|      Order ID|Order Date| Ship Date|     Ship Mode|Customer ID|     Product ID|   Sales|Quantity|Discount|  Profit|\n+----------+--------------+----------+----------+--------------+-----------+---------------+--------+--------+--------+--------+\n|         1|CA-2016-152156|2016-11-08|2016-11-11|  Second Class|   CG-12520|FUR-BO-10001798|  261.96|       2|     0.0| 41.9136|\n|         2|CA-2016-152156|2016-11-08|2016-11-11|  Second Class|   CG-12520|FUR-CH-10000454|  731.94|       3|     0.0| 219.582|\n|         3|CA-2016-138688|2016-06-12|2016-06-16|  Second Class|   DV-13045|OFF-LA-10000240|   14.62|       2|     0.0|  6.8714|\n|         4|US-2015-108966|2015-10-11|2015-10-18|Standard Class|   SO-20335|FUR-TA-10000577|957.5775|       5|    0.45|-383.031|\n|         5|US-2015-108966|2015-10-11|2015-10-18|Standard Class|   SO-20335|OFF-ST-10000760|  22.368|       2|     0.2|  2.5164|\n|         6|CA-2014-115812|2014-06-09|2014-06-14|Standard Class|   BH-11710|FUR-FU-10001487|   48.86|       7|     0.0| 14.1694|\n|         7|CA-2014-115812|2014-06-09|2014-06-14|Standard Class|   BH-11710|OFF-AR-10002833|    7.28|       4|     0.0|  1.9656|\n|         8|CA-2014-115812|2014-06-09|2014-06-14|Standard Class|   BH-11710|TEC-PH-10002275| 907.152|       6|     0.2| 90.7152|\n|         9|CA-2014-115812|2014-06-09|2014-06-14|Standard Class|   BH-11710|OFF-BI-10003910|  18.504|       3|     0.2|  5.7825|\n|        10|CA-2014-115812|2014-06-09|2014-06-14|Standard Class|   BH-11710|OFF-AP-10002892|   114.9|       5|     0.0|   34.47|\n+----------+--------------+----------+----------+--------------+-----------+---------------+--------+--------+--------+--------+\nonly showing top 10 rows\n\nroot\n |-- Order Line: integer (nullable = true)\n |-- Order ID: string (nullable = true)\n |-- Order Date: date (nullable = true)\n |-- Ship Date: date (nullable = true)\n |-- Ship Mode: string (nullable = true)\n |-- Customer ID: string (nullable = true)\n |-- Product ID: string (nullable = true)\n |-- Sales: double (nullable = true)\n |-- Quantity: integer (nullable = true)\n |-- Discount: double (nullable = true)\n |-- Profit: double (nullable = true)\n\nOut[8]: ['Order Line',\n 'Order ID',\n 'Order Date',\n 'Ship Date',\n 'Ship Mode',\n 'Customer ID',\n 'Product ID',\n 'Sales',\n 'Quantity',\n 'Discount',\n 'Profit']"
     ]
    }
   ],
   "source": [
    "Sales_df.show(10)\n",
    "Sales_df.printSchema()\n",
    "Sales_df.columns"
   ]
  },
  {
   "cell_type": "code",
   "execution_count": 0,
   "metadata": {
    "application/vnd.databricks.v1+cell": {
     "cellMetadata": {
      "byteLimit": 2048000,
      "rowLimit": 10000
     },
     "inputWidgets": {},
     "nuid": "d5bc75b4-c4a1-419c-a833-54c1aa33a6a7",
     "showTitle": false,
     "tableResultSettingsMap": {},
     "title": ""
    }
   },
   "outputs": [
    {
     "output_type": "stream",
     "name": "stdout",
     "output_type": "stream",
     "text": [
      "root\n |-- order_line: integer (nullable = true)\n |-- order_id: string (nullable = true)\n |-- order_date: date (nullable = true)\n |-- ship_date: date (nullable = true)\n |-- ship_mode: string (nullable = true)\n |-- customer_id: string (nullable = true)\n |-- product_id: string (nullable = true)\n |-- sales: double (nullable = true)\n |-- quantity: integer (nullable = true)\n |-- discount: double (nullable = true)\n |-- profit: double (nullable = true)\n\nOut[9]: ['order_line',\n 'order_id',\n 'order_date',\n 'ship_date',\n 'ship_mode',\n 'customer_id',\n 'product_id',\n 'sales',\n 'quantity',\n 'discount',\n 'profit']"
     ]
    }
   ],
   "source": [
    "Sales_df = Sales_df.withColumnRenamed('Order Line','order_line')\\\n",
    "    .withColumnRenamed('Order ID','order_id')\\\n",
    "        .withColumnRenamed('OrderID','order_id')\\\n",
    "            .withColumnRenamed('Order Date','order_date')\\\n",
    "                .withColumnRenamed('Ship Date','ship_date')\\\n",
    "                    .withColumnRenamed('Ship Mode','ship_mode')\\\n",
    "                        .withColumnRenamed('Customer ID','customer_id')\\\n",
    "                            .withColumnRenamed('Product ID','product_id')\\\n",
    "                                .withColumnRenamed('Sales','sales')\\\n",
    "                                    .withColumnRenamed('Quantity','quantity')\\\n",
    "                                        .withColumnRenamed('Discount','discount')\\\n",
    "                                            .withColumnRenamed('Profit','profit')\n",
    "\n",
    "Sales_df.printSchema()\n",
    "Sales_df.columns"
   ]
  },
  {
   "cell_type": "markdown",
   "metadata": {
    "application/vnd.databricks.v1+cell": {
     "cellMetadata": {},
     "inputWidgets": {},
     "nuid": "ea394bc1-a325-49e5-875a-1134a3d0b4fd",
     "showTitle": false,
     "tableResultSettingsMap": {},
     "title": ""
    }
   },
   "source": [
    "### Data Cleaning - Finding Duplicates\n"
   ]
  },
  {
   "cell_type": "code",
   "execution_count": 0,
   "metadata": {
    "application/vnd.databricks.v1+cell": {
     "cellMetadata": {
      "byteLimit": 2048000,
      "rowLimit": 10000
     },
     "inputWidgets": {},
     "nuid": "93b499d2-2510-4b7f-9154-b7193970ba18",
     "showTitle": false,
     "tableResultSettingsMap": {},
     "title": ""
    }
   },
   "outputs": [
    {
     "output_type": "stream",
     "name": "stdout",
     "output_type": "stream",
     "text": [
      "+----------+--------+------------+------------+-----+\n|product_id|category|sub_category|product_name|count|\n+----------+--------+------------+------------+-----+\n+----------+--------+------------+------------+-----+\n\n+-----------+-------------+-------+---+-------+----+-----+-----------+------+-----+\n|customer_id|customer_name|segment|age|country|city|state|postal_code|region|count|\n+-----------+-------------+-------+---+-------+----+-----+-----------+------+-----+\n+-----------+-------------+-------+---+-------+----+-----+-----------+------+-----+\n\n+----------+--------+----------+---------+---------+-----------+----------+-----+--------+--------+------+-----+\n|order_line|order_id|order_date|ship_date|ship_mode|customer_id|product_id|sales|quantity|discount|profit|count|\n+----------+--------+----------+---------+---------+-----------+----------+-----+--------+--------+------+-----+\n+----------+--------+----------+---------+---------+-----------+----------+-----+--------+--------+------+-----+\n\n"
     ]
    }
   ],
   "source": [
    "Product_df.groupBy(Product_df.columns).count().filter('count>1').show()\n",
    "Customer_df.groupBy(Customer_df.columns).count().filter('count>1').show()\n",
    "Sales_df.groupBy(Sales_df.columns).count().filter('count>1').show() "
   ]
  },
  {
   "cell_type": "markdown",
   "metadata": {
    "application/vnd.databricks.v1+cell": {
     "cellMetadata": {},
     "inputWidgets": {},
     "nuid": "230f10d1-11a3-4217-ad8e-3e1ef7fc9130",
     "showTitle": false,
     "tableResultSettingsMap": {},
     "title": ""
    }
   },
   "source": [
    "### Data Cleaning - Finding Null Values"
   ]
  },
  {
   "cell_type": "code",
   "execution_count": 0,
   "metadata": {
    "application/vnd.databricks.v1+cell": {
     "cellMetadata": {
      "byteLimit": 2048000,
      "rowLimit": 10000
     },
     "inputWidgets": {},
     "nuid": "bf77b877-d015-489d-83d5-eebf0819c9e4",
     "showTitle": false,
     "tableResultSettingsMap": {},
     "title": ""
    }
   },
   "outputs": [
    {
     "output_type": "stream",
     "name": "stdout",
     "output_type": "stream",
     "text": [
      "+----------+--------+------------+------------+\n|product_id|category|sub_category|product_name|\n+----------+--------+------------+------------+\n+----------+--------+------------+------------+\n\n+-----------+-------------+-------+---+-------+----+-----+-----------+------+\n|customer_id|customer_name|segment|age|country|city|state|postal_code|region|\n+-----------+-------------+-------+---+-------+----+-----+-----------+------+\n+-----------+-------------+-------+---+-------+----+-----+-----------+------+\n\n+----------+--------+----------+---------+---------+-----------+----------+-----+--------+--------+------+\n|order_line|order_id|order_date|ship_date|ship_mode|customer_id|product_id|sales|quantity|discount|profit|\n+----------+--------+----------+---------+---------+-----------+----------+-----+--------+--------+------+\n+----------+--------+----------+---------+---------+-----------+----------+-----+--------+--------+------+\n\n"
     ]
    }
   ],
   "source": [
    "### Product_df.filter(F.col('product_id').isNull()).show() ---> Column wise Null values\n",
    "Product_df.filter(reduce(lambda x, y: x | y, (F.col(z).isNull() for z in Product_df.columns))).show()\n",
    "Customer_df.filter(reduce(lambda x,y: x|y, (F.col(c).isNull() for c in Customer_df.columns))).show()\n",
    "Sales_df.filter(reduce(lambda x,y: x|y, (F.col(s).isNull() for s in Sales_df.columns))).show()"
   ]
  },
  {
   "cell_type": "code",
   "execution_count": 0,
   "metadata": {
    "application/vnd.databricks.v1+cell": {
     "cellMetadata": {
      "byteLimit": 2048000,
      "rowLimit": 10000
     },
     "inputWidgets": {},
     "nuid": "9b04788d-60ee-4268-af3d-418b6888836e",
     "showTitle": false,
     "tableResultSettingsMap": {},
     "title": ""
    }
   },
   "outputs": [
    {
     "output_type": "stream",
     "name": "stdout",
     "output_type": "stream",
     "text": [
      "Out[55]: 9994"
     ]
    }
   ],
   "source": [
    "Sales_df.count()"
   ]
  },
  {
   "cell_type": "code",
   "execution_count": 0,
   "metadata": {
    "application/vnd.databricks.v1+cell": {
     "cellMetadata": {
      "byteLimit": 2048000,
      "rowLimit": 10000
     },
     "inputWidgets": {},
     "nuid": "091dfe7d-b620-4595-ace2-e1150f0efc63",
     "showTitle": false,
     "tableResultSettingsMap": {},
     "title": ""
    }
   },
   "outputs": [
    {
     "output_type": "stream",
     "name": "stdout",
     "output_type": "stream",
     "text": [
      "root\n |-- product_id: string (nullable = true)\n |-- customer_id: string (nullable = true)\n |-- order_line: integer (nullable = true)\n |-- order_id: string (nullable = true)\n |-- order_date: date (nullable = true)\n |-- ship_date: date (nullable = true)\n |-- ship_mode: string (nullable = true)\n |-- sales: double (nullable = true)\n |-- quantity: integer (nullable = true)\n |-- discount: double (nullable = true)\n |-- profit: double (nullable = true)\n |-- customer_name: string (nullable = true)\n |-- segment: string (nullable = true)\n |-- age: integer (nullable = true)\n |-- country: string (nullable = true)\n |-- city: string (nullable = true)\n |-- state: string (nullable = true)\n |-- postal_code: integer (nullable = true)\n |-- region: string (nullable = true)\n |-- category: string (nullable = true)\n |-- sub_category: string (nullable = true)\n |-- product_name: string (nullable = true)\n\n"
     ]
    }
   ],
   "source": [
    "## Joining all the dataframes\n",
    "SCP_df = Sales_df.join(Customer_df, on = 'customer_id', how='inner').join(Product_df, on='product_id', how='inner')\n",
    "## Cross checking for null values in the joined df\n",
    "SCP_df.filter(reduce(lambda x,y: x|y, (F.col(j).isNull() for j in SCP_df.columns))).count()\n",
    "## Count of records and schema\n",
    "SCP_df.count()\n",
    "SCP_df.printSchema()"
   ]
  },
  {
   "cell_type": "markdown",
   "metadata": {
    "application/vnd.databricks.v1+cell": {
     "cellMetadata": {},
     "inputWidgets": {},
     "nuid": "d79596c7-0e2d-41e3-aca8-04ca2717eed6",
     "showTitle": false,
     "tableResultSettingsMap": {},
     "title": ""
    }
   },
   "source": [
    "### Data Analysis and Querying"
   ]
  },
  {
   "cell_type": "markdown",
   "metadata": {
    "application/vnd.databricks.v1+cell": {
     "cellMetadata": {},
     "inputWidgets": {},
     "nuid": "b42aac44-0417-42a7-9fd1-016b88c509b4",
     "showTitle": false,
     "tableResultSettingsMap": {},
     "title": ""
    }
   },
   "source": [
    "1. What is the total sales for each product category?"
   ]
  },
  {
   "cell_type": "code",
   "execution_count": 0,
   "metadata": {
    "application/vnd.databricks.v1+cell": {
     "cellMetadata": {
      "byteLimit": 2048000,
      "rowLimit": 10000
     },
     "inputWidgets": {},
     "nuid": "c358d396-5809-40cd-9e5f-27016a67a7e5",
     "showTitle": false,
     "tableResultSettingsMap": {},
     "title": ""
    }
   },
   "outputs": [
    {
     "output_type": "stream",
     "name": "stdout",
     "output_type": "stream",
     "text": [
      "+---------------+------------+\n|       category|sum_of_sales|\n+---------------+------------+\n|     Technology|   836154.03|\n|      Furniture|    741999.8|\n|Office Supplies|   719047.03|\n+---------------+------------+\n\n"
     ]
    }
   ],
   "source": [
    "##SCP_df.groupBy('category').sum('sales').show()\n",
    "##SCP_df.select('category','sales').groupBy('category').sum('sales').show()\n",
    "SCP_df.groupBy('category').agg(F.round(F.sum('sales'),2).alias('sum_of_sales')).orderBy(F.col('sum_of_sales'),ascending=False).show()"
   ]
  },
  {
   "cell_type": "markdown",
   "metadata": {
    "application/vnd.databricks.v1+cell": {
     "cellMetadata": {},
     "inputWidgets": {},
     "nuid": "d30bc279-6f1b-43a0-acaa-7742c59cc86d",
     "showTitle": false,
     "tableResultSettingsMap": {},
     "title": ""
    }
   },
   "source": [
    "2. Which customer has made the highest number of purchases?"
   ]
  },
  {
   "cell_type": "code",
   "execution_count": 0,
   "metadata": {
    "application/vnd.databricks.v1+cell": {
     "cellMetadata": {
      "byteLimit": 2048000,
      "rowLimit": 10000
     },
     "inputWidgets": {},
     "nuid": "79fcc066-8b18-432b-b5a7-e1fd93a808fd",
     "showTitle": false,
     "tableResultSettingsMap": {},
     "title": ""
    }
   },
   "outputs": [
    {
     "output_type": "stream",
     "name": "stdout",
     "output_type": "stream",
     "text": [
      "+-----------+-------------+------------------+----------+\n|customer_id|customer_name|count_of_purchases|dense_rank|\n+-----------+-------------+------------------+----------+\n|   WB-21850|William Brown|                37|         1|\n+-----------+-------------+------------------+----------+\n\n"
     ]
    }
   ],
   "source": [
    "\n",
    "##SCP_df.select('customer_id', 'customer_name', 'order_id').groupBy('customer_id', 'customer_name').agg(F.count('order_id').alias('count_of_purchases')).orderBy(F.col('count_of_purchases').desc()).limit(1).show()\n",
    "spec = Window.orderBy(F.col('count_of_purchases').desc())\n",
    "SCP_df.groupBy('customer_id', 'customer_name').agg(F.count('order_id').alias('count_of_purchases')).withColumn('dense_rank', F.dense_rank().over(spec)).filter(F.col('dense_rank')==1).show()"
   ]
  },
  {
   "cell_type": "markdown",
   "metadata": {
    "application/vnd.databricks.v1+cell": {
     "cellMetadata": {},
     "inputWidgets": {},
     "nuid": "ff36fd8b-95b8-43b4-99d6-5f3d15aabc87",
     "showTitle": false,
     "tableResultSettingsMap": {},
     "title": ""
    }
   },
   "source": [
    "3. What is the average discount given on sales across all products?"
   ]
  },
  {
   "cell_type": "code",
   "execution_count": 0,
   "metadata": {
    "application/vnd.databricks.v1+cell": {
     "cellMetadata": {
      "byteLimit": 2048000,
      "rowLimit": 10000
     },
     "inputWidgets": {},
     "nuid": "e0ced1d2-e5be-40c7-84a2-95228ae6d6cd",
     "showTitle": false,
     "tableResultSettingsMap": {},
     "title": ""
    }
   },
   "outputs": [
    {
     "output_type": "stream",
     "name": "stdout",
     "output_type": "stream",
     "text": [
      "+--------------------+------------+\n|        product_name|avg_discount|\n+--------------------+------------+\n|Eureka Disposable...|         0.8|\n|GBC VeloBinder El...|        0.73|\n|GBC Plasticlear B...|        0.73|\n|Lexmark MarkNet N...|         0.7|\n|Epson Perfection ...|         0.7|\n|Plantronics Singl...|         0.7|\n|Brother MFC-9340C...|         0.7|\n|Okidata B401 Printer|         0.7|\n|Zebra GK420t Dire...|         0.7|\n|Bush Westfield Co...|         0.7|\n|Hewlett-Packard D...|         0.7|\n|Cisco 8961 IP Pho...|         0.7|\n|Premier Elliptica...|        0.64|\n|Wilson Jones Cust...|        0.63|\n|Avery Durable Sla...|        0.62|\n|Acco D-Ring Binde...|        0.62|\n|Avery Triangle Sh...|        0.62|\n|Avery Hidden Tab ...|        0.61|\n|Eldon Executive W...|         0.6|\n|Acco Economy Flex...|         0.6|\n+--------------------+------------+\nonly showing top 20 rows\n\n"
     ]
    }
   ],
   "source": [
    "SCP_df.groupBy('product_name').agg(F.round(F.avg('discount'),2).alias('avg_discount')).orderBy(F.col('avg_discount').desc()).show()"
   ]
  },
  {
   "cell_type": "markdown",
   "metadata": {
    "application/vnd.databricks.v1+cell": {
     "cellMetadata": {},
     "inputWidgets": {},
     "nuid": "e1a5f255-fd05-430c-b54e-cfedd38c1334",
     "showTitle": false,
     "tableResultSettingsMap": {},
     "title": ""
    }
   },
   "source": [
    "4. How many unique products were sold in each region?"
   ]
  },
  {
   "cell_type": "code",
   "execution_count": 0,
   "metadata": {
    "application/vnd.databricks.v1+cell": {
     "cellMetadata": {
      "byteLimit": 2048000,
      "rowLimit": 10000
     },
     "inputWidgets": {},
     "nuid": "a7f851f0-7a65-460c-851e-07aabd5279f8",
     "showTitle": false,
     "tableResultSettingsMap": {},
     "title": ""
    }
   },
   "outputs": [
    {
     "output_type": "stream",
     "name": "stdout",
     "output_type": "stream",
     "text": [
      "+-------+-----------------+\n| region|count_of_products|\n+-------+-----------------+\n|  South|             1059|\n|Central|             1316|\n|   East|             1408|\n|   West|             1536|\n+-------+-----------------+\n\n"
     ]
    }
   ],
   "source": [
    "SCP_df.groupBy('region').agg(F.countDistinct('product_id').alias('count_of_products')).show()"
   ]
  },
  {
   "cell_type": "markdown",
   "metadata": {
    "application/vnd.databricks.v1+cell": {
     "cellMetadata": {},
     "inputWidgets": {},
     "nuid": "513d3012-f438-4306-a16b-0890f1a04aec",
     "showTitle": false,
     "tableResultSettingsMap": {},
     "title": ""
    }
   },
   "source": [
    "5. What is the total profit generated in each state?"
   ]
  },
  {
   "cell_type": "code",
   "execution_count": 0,
   "metadata": {
    "application/vnd.databricks.v1+cell": {
     "cellMetadata": {
      "byteLimit": 2048000,
      "rowLimit": 10000
     },
     "inputWidgets": {},
     "nuid": "e415a11b-e6a8-40e3-9ad1-5ac152a01fac",
     "showTitle": false,
     "tableResultSettingsMap": {},
     "title": ""
    }
   },
   "outputs": [
    {
     "output_type": "stream",
     "name": "stdout",
     "output_type": "stream",
     "text": [
      "+-------------+------------+\n|        State|Total_profit|\n+-------------+------------+\n|   California|    59398.31|\n|     New York|    58177.83|\n|   Washington|     24405.8|\n|        Texas|    20528.91|\n| Pennsylvania|    13604.94|\n|      Georgia|    12781.34|\n|      Arizona|      9563.2|\n|     Illinois|     9560.15|\n|    Wisconsin|     8569.87|\n|     Michigan|      7752.3|\n|    Minnesota|     7202.52|\n|     Virginia|     6940.11|\n|         Ohio|     5985.89|\n|Massachusetts|     5905.54|\n|     Kentucky|     4513.31|\n|    Tennessee|     3434.28|\n|     Delaware|     3336.38|\n|      Alabama|     2845.06|\n|      Indiana|     2707.35|\n|    Louisiana|     2659.24|\n+-------------+------------+\nonly showing top 20 rows\n\n"
     ]
    }
   ],
   "source": [
    "SCP_df.groupBy('State').agg(F.round(F.sum('profit'),2).alias('Total_profit')).orderBy(F.col('Total_profit').desc()).show()"
   ]
  },
  {
   "cell_type": "markdown",
   "metadata": {
    "application/vnd.databricks.v1+cell": {
     "cellMetadata": {},
     "inputWidgets": {},
     "nuid": "f37b1c0a-bd04-446e-875a-6af51af4a5d0",
     "showTitle": false,
     "tableResultSettingsMap": {},
     "title": ""
    }
   },
   "source": [
    "6. Which product sub-category has the highest sales?"
   ]
  },
  {
   "cell_type": "code",
   "execution_count": 0,
   "metadata": {
    "application/vnd.databricks.v1+cell": {
     "cellMetadata": {
      "byteLimit": 2048000,
      "rowLimit": 10000
     },
     "inputWidgets": {},
     "nuid": "fcb0ac58-2d45-4946-b29f-1fa03162fc64",
     "showTitle": false,
     "tableResultSettingsMap": {},
     "title": ""
    }
   },
   "outputs": [
    {
     "output_type": "stream",
     "name": "stdout",
     "output_type": "stream",
     "text": [
      "+------------+-----------------+----------+\n|sub_category|      Total_sales|dense_rank|\n+------------+-----------------+----------+\n|      Phones|330007.0540000001|         1|\n+------------+-----------------+----------+\n\n"
     ]
    }
   ],
   "source": [
    "spec = Window.orderBy(F.col('Total_sales').desc())\n",
    "SCP_df.groupBy('sub_category').agg(F.sum('sales').alias('Total_sales')).withColumn('dense_rank', F.dense_rank().over(spec)).filter(F.col('dense_rank')==1).show()"
   ]
  },
  {
   "cell_type": "markdown",
   "metadata": {
    "application/vnd.databricks.v1+cell": {
     "cellMetadata": {},
     "inputWidgets": {},
     "nuid": "fec897dc-ef2e-4002-9681-0cdc956b5551",
     "showTitle": false,
     "tableResultSettingsMap": {},
     "title": ""
    }
   },
   "source": [
    "7. What is the average age of customers in each segment?"
   ]
  },
  {
   "cell_type": "code",
   "execution_count": 0,
   "metadata": {
    "application/vnd.databricks.v1+cell": {
     "cellMetadata": {
      "byteLimit": 2048000,
      "rowLimit": 10000
     },
     "inputWidgets": {},
     "nuid": "cf911998-bf3a-49c3-8e4e-125dba8d0554",
     "showTitle": false,
     "tableResultSettingsMap": {},
     "title": ""
    }
   },
   "outputs": [
    {
     "output_type": "stream",
     "name": "stdout",
     "output_type": "stream",
     "text": [
      "+-----------+-----------+\n|    segment|average_age|\n+-----------+-----------+\n|   Consumer|      44.61|\n|Home Office|      43.28|\n|  Corporate|      44.82|\n+-----------+-----------+\n\n"
     ]
    }
   ],
   "source": [
    "SCP_df.groupBy('segment').agg(F.round(F.avg('age'),2).alias('average_age')).show()"
   ]
  },
  {
   "cell_type": "markdown",
   "metadata": {
    "application/vnd.databricks.v1+cell": {
     "cellMetadata": {},
     "inputWidgets": {},
     "nuid": "3623d133-a858-49eb-b42c-7478d0cc9a98",
     "showTitle": false,
     "tableResultSettingsMap": {},
     "title": ""
    }
   },
   "source": [
    "8. How many orders were shipped in each shipping mode?"
   ]
  },
  {
   "cell_type": "code",
   "execution_count": 0,
   "metadata": {
    "application/vnd.databricks.v1+cell": {
     "cellMetadata": {
      "byteLimit": 2048000,
      "rowLimit": 10000
     },
     "inputWidgets": {},
     "nuid": "e28a448e-de68-4238-b39a-dffac1ed0023",
     "showTitle": false,
     "tableResultSettingsMap": {},
     "title": ""
    }
   },
   "outputs": [
    {
     "output_type": "stream",
     "name": "stdout",
     "output_type": "stream",
     "text": [
      "+--------------+-----------+\n|     ship_mode|total_order|\n+--------------+-----------+\n|   First Class|       1538|\n|      Same Day|        543|\n|  Second Class|       1945|\n|Standard Class|       5968|\n+--------------+-----------+\n\n"
     ]
    }
   ],
   "source": [
    "SCP_df.groupBy('ship_mode').agg(F.count('order_id').alias('total_order')).show()"
   ]
  },
  {
   "cell_type": "markdown",
   "metadata": {
    "application/vnd.databricks.v1+cell": {
     "cellMetadata": {},
     "inputWidgets": {},
     "nuid": "e4ebc34e-5e3c-4f00-ae55-006d4a706e28",
     "showTitle": false,
     "tableResultSettingsMap": {},
     "title": ""
    }
   },
   "source": [
    "9. What is the total quantity of products sold in each city?"
   ]
  },
  {
   "cell_type": "code",
   "execution_count": 0,
   "metadata": {
    "application/vnd.databricks.v1+cell": {
     "cellMetadata": {
      "byteLimit": 2048000,
      "rowLimit": 10000
     },
     "inputWidgets": {},
     "nuid": "2a1af3d9-a646-4fbd-82c6-5c56c617bd73",
     "showTitle": false,
     "tableResultSettingsMap": {},
     "title": ""
    }
   },
   "outputs": [
    {
     "output_type": "stream",
     "name": "stdout",
     "output_type": "stream",
     "text": [
      "+-------------+--------------+\n|         city|total_products|\n+-------------+--------------+\n|New York City|           848|\n|  Los Angeles|           728|\n| Philadelphia|           585|\n|San Francisco|           474|\n|      Seattle|           386|\n|      Houston|           379|\n|      Chicago|           310|\n|     Columbus|           236|\n|       Dallas|           164|\n|       Aurora|           164|\n|    San Diego|           163|\n| Jacksonville|            93|\n|      Detroit|            85|\n|    Rochester|            74|\n|    Charlotte|            73|\n|     Pasadena|            71|\n|      Phoenix|            69|\n|        Dover|            69|\n|  Springfield|            68|\n|      Jackson|            68|\n+-------------+--------------+\nonly showing top 20 rows\n\n"
     ]
    }
   ],
   "source": [
    "SCP_df.groupBy('city').agg(F.count('product_id').alias('total_products')).orderBy(F.col('total_products').desc()).show()"
   ]
  },
  {
   "cell_type": "markdown",
   "metadata": {
    "application/vnd.databricks.v1+cell": {
     "cellMetadata": {},
     "inputWidgets": {},
     "nuid": "d45ef563-29f5-475e-a006-ff90a54d333c",
     "showTitle": false,
     "tableResultSettingsMap": {},
     "title": ""
    }
   },
   "source": [
    "10. Which customer segment has the highest profit margin?"
   ]
  },
  {
   "cell_type": "code",
   "execution_count": 0,
   "metadata": {
    "application/vnd.databricks.v1+cell": {
     "cellMetadata": {
      "byteLimit": 2048000,
      "rowLimit": 10000
     },
     "inputWidgets": {},
     "nuid": "5f768c56-2291-4f5e-b782-ace7a0f305be",
     "showTitle": false,
     "tableResultSettingsMap": {},
     "title": ""
    }
   },
   "outputs": [
    {
     "output_type": "stream",
     "name": "stdout",
     "output_type": "stream",
     "text": [
      "+--------+------------------+\n| segment|     profit_margin|\n+--------+------------------+\n|Consumer|134119.20919999972|\n+--------+------------------+\n\n"
     ]
    }
   ],
   "source": [
    "SCP_df.groupBy('segment').agg(F.sum('profit').alias('profit_margin')).orderBy(F.col('profit_margin').desc()).limit(1).show()"
   ]
  }
 ],
 "metadata": {
  "application/vnd.databricks.v1+notebook": {
   "dashboards": [],
   "environmentMetadata": null,
   "language": "python",
   "notebookMetadata": {
    "pythonIndentUnit": 4
   },
   "notebookName": "Dmart analysis using pyspark",
   "widgets": {}
  }
 },
 "nbformat": 4,
 "nbformat_minor": 0
}
